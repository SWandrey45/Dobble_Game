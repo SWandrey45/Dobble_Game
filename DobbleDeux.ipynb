{
 "cells": [
  {
   "cell_type": "code",
   "execution_count": 2,
   "metadata": {},
   "outputs": [],
   "source": [
    "import emoji\n",
    "import random\n",
    "imageDict = dict()\n",
    "fin = open('emoji_names.txt',\"r\")\n",
    "lines = fin.readlines()\n",
    "for i, el in enumerate(lines):\n",
    "    imageDict[i+1] = emoji.emojize(el.strip())\n",
    "    #print(i+1,imageDict[i+1],end=' ')"
   ]
  },
  {
   "cell_type": "code",
   "execution_count": 23,
   "metadata": {},
   "outputs": [
    {
     "name": "stdout",
     "output_type": "stream",
     "text": [
      "set()\n"
     ]
    }
   ],
   "source": [
    "def dobbleGenerator():\n",
    "    nIm = 8\n",
    "    n = nIm - 1\n",
    "    r = range(n)\n",
    "    rp1 = range(n+1)\n",
    "    c = 0\n",
    "    Deck = {}\n",
    "\n",
    "    # First card\n",
    "    c += 1\n",
    "    Deck[c]=set()\n",
    "    print(Deck)\n",
    "    #print('Card %2d: ' % c, end='');\n",
    "    for i in rp1:\n",
    "        #print(i+1, end=' ')\n",
    "        Deck[c].add(imageDict[i+1])\n",
    "    print(Deck)\n",
    "    \n",
    "\n",
    "    # n following cards\n",
    "    for j in r:\n",
    "        c = c+1\n",
    "        Deck[c]=set()\n",
    "        Deck[c].add(imageDict[1])\n",
    "        for k in r:\n",
    "            Deck[c].add(imageDict[n+2 + n*j +k])\n",
    "    \n",
    "\n",
    "    # n x n following cards\n",
    "    for i in r:\n",
    "        for j in r:\n",
    "            c = c+1\n",
    "            Deck[c]=set()\n",
    "            Deck[c].add(imageDict[i+2])\n",
    "            for k in r:\n",
    "                Deck[c].add(imageDict[(n+1 + n*k + (i*k+j) % n)+1])\n",
    "                \n",
    "\n",
    "print(Deck)\n"
   ]
  },
  {
   "cell_type": "code",
   "execution_count": 16,
   "metadata": {},
   "outputs": [
    {
     "data": {
      "text/plain": [
       "<function __main__.dobbleGenerator()>"
      ]
     },
     "execution_count": 16,
     "metadata": {},
     "output_type": "execute_result"
    }
   ],
   "source": [
    "dobbleGenerator"
   ]
  },
  {
   "cell_type": "code",
   "execution_count": 10,
   "metadata": {},
   "outputs": [],
   "source": [
    "class dobbleCard:\n",
    "    def __init__(self, key, images):\n",
    "        self.key=key\n",
    "        self.images=images\n",
    "    def show_card(self):\n",
    "#         print(dobbleCard(c,Deck1))\n",
    "        print(self.key)\n",
    "        print(self.images)\n",
    "        #this makes it look like a square! "
   ]
  },
  {
   "cell_type": "code",
   "execution_count": 11,
   "metadata": {},
   "outputs": [],
   "source": [
    "def check_validity(deck, verbose= False):\n",
    "    for i in range(1, len(deck)+1):\n",
    "        for  j in range(i+1, len(deck)+1):\n",
    "            matching_emoji=(deck[i].intersection(deck[j]))\n",
    "            if len(matching_emoji) != 1:\n",
    "                break\n",
    "            if verbose == True:\n",
    "                print(deck[i].intersection(deck[j]))\n",
    "                "
   ]
  },
  {
   "cell_type": "code",
   "execution_count": 12,
   "metadata": {},
   "outputs": [
    {
     "ename": "SyntaxError",
     "evalue": "unexpected EOF while parsing (<ipython-input-12-283cf4df963c>, line 1)",
     "output_type": "error",
     "traceback": [
      "\u001b[0;36m  File \u001b[0;32m\"<ipython-input-12-283cf4df963c>\"\u001b[0;36m, line \u001b[0;32m1\u001b[0m\n\u001b[0;31m    def dobble_game():\u001b[0m\n\u001b[0m                      ^\u001b[0m\n\u001b[0;31mSyntaxError\u001b[0m\u001b[0;31m:\u001b[0m unexpected EOF while parsing\n"
     ]
    }
   ],
   "source": [
    "def dobble_game():"
   ]
  },
  {
   "cell_type": "code",
   "execution_count": null,
   "metadata": {},
   "outputs": [],
   "source": []
  }
 ],
 "metadata": {
  "kernelspec": {
   "display_name": "Python 3",
   "language": "python",
   "name": "python3"
  },
  "language_info": {
   "codemirror_mode": {
    "name": "ipython",
    "version": 3
   },
   "file_extension": ".py",
   "mimetype": "text/x-python",
   "name": "python",
   "nbconvert_exporter": "python",
   "pygments_lexer": "ipython3",
   "version": "3.7.4"
  }
 },
 "nbformat": 4,
 "nbformat_minor": 2
}
